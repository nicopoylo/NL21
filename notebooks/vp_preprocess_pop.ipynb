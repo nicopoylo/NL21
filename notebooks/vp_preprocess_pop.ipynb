{
 "cells": [
  {
   "cell_type": "code",
   "execution_count": 1,
   "metadata": {},
   "outputs": [],
   "source": [
    "import pandas as pd\n",
    "import numpy as np\n",
    "import matplotlib.pyplot as plt"
   ]
  },
  {
   "cell_type": "code",
   "execution_count": 2,
   "metadata": {},
   "outputs": [],
   "source": [
    "%load_ext autoreload\n",
    "%reload_ext autoreload\n",
    "%autoreload 2"
   ]
  },
  {
   "cell_type": "markdown",
   "metadata": {},
   "source": [
    "# Data exploration"
   ]
  },
  {
   "cell_type": "code",
   "execution_count": 3,
   "metadata": {},
   "outputs": [],
   "source": [
    "df = pd.read_csv('../raw_data/census.csv')"
   ]
  },
  {
   "cell_type": "code",
   "execution_count": 11,
   "metadata": {},
   "outputs": [
    {
     "data": {
      "text/html": [
       "<div>\n",
       "<style scoped>\n",
       "    .dataframe tbody tr th:only-of-type {\n",
       "        vertical-align: middle;\n",
       "    }\n",
       "\n",
       "    .dataframe tbody tr th {\n",
       "        vertical-align: top;\n",
       "    }\n",
       "\n",
       "    .dataframe thead th {\n",
       "        text-align: right;\n",
       "    }\n",
       "</style>\n",
       "<table border=\"1\" class=\"dataframe\">\n",
       "  <thead>\n",
       "    <tr style=\"text-align: right;\">\n",
       "      <th></th>\n",
       "      <th>AGEB</th>\n",
       "      <th>POBTOT</th>\n",
       "      <th>POBFEM</th>\n",
       "      <th>POBMAS</th>\n",
       "      <th>P_0A2</th>\n",
       "      <th>P_0A2_F</th>\n",
       "      <th>P_0A2_M</th>\n",
       "      <th>P_3YMAS</th>\n",
       "      <th>P_3YMAS_F</th>\n",
       "      <th>P_3YMAS_M</th>\n",
       "      <th>...</th>\n",
       "      <th>VPH_CEL</th>\n",
       "      <th>VPH_INTER</th>\n",
       "      <th>VPH_STVP</th>\n",
       "      <th>VPH_SPMVPI</th>\n",
       "      <th>VPH_CVJ</th>\n",
       "      <th>VPH_SINRTV</th>\n",
       "      <th>VPH_SINLTC</th>\n",
       "      <th>VPH_SINCINT</th>\n",
       "      <th>VPH_SINTIC</th>\n",
       "      <th>CVEGEO</th>\n",
       "    </tr>\n",
       "  </thead>\n",
       "  <tbody>\n",
       "    <tr>\n",
       "      <th>1843</th>\n",
       "      <td>2398</td>\n",
       "      <td>7871</td>\n",
       "      <td>3915</td>\n",
       "      <td>3956</td>\n",
       "      <td>400</td>\n",
       "      <td>203</td>\n",
       "      <td>197</td>\n",
       "      <td>7471</td>\n",
       "      <td>3712</td>\n",
       "      <td>3759</td>\n",
       "      <td>...</td>\n",
       "      <td>1588</td>\n",
       "      <td>1136</td>\n",
       "      <td>550</td>\n",
       "      <td>269</td>\n",
       "      <td>162</td>\n",
       "      <td>45</td>\n",
       "      <td>124</td>\n",
       "      <td>635</td>\n",
       "      <td>13</td>\n",
       "      <td>1903900012398</td>\n",
       "    </tr>\n",
       "    <tr>\n",
       "      <th>2545</th>\n",
       "      <td>0519</td>\n",
       "      <td>104</td>\n",
       "      <td>55</td>\n",
       "      <td>49</td>\n",
       "      <td>10</td>\n",
       "      <td>6</td>\n",
       "      <td>4</td>\n",
       "      <td>94</td>\n",
       "      <td>49</td>\n",
       "      <td>45</td>\n",
       "      <td>...</td>\n",
       "      <td>25</td>\n",
       "      <td>6</td>\n",
       "      <td>25</td>\n",
       "      <td>6</td>\n",
       "      <td>0</td>\n",
       "      <td>0</td>\n",
       "      <td>0</td>\n",
       "      <td>11</td>\n",
       "      <td>0</td>\n",
       "      <td>1904900010519</td>\n",
       "    </tr>\n",
       "  </tbody>\n",
       "</table>\n",
       "<p>2 rows × 223 columns</p>\n",
       "</div>"
      ],
      "text/plain": [
       "      AGEB  POBTOT POBFEM POBMAS P_0A2 P_0A2_F P_0A2_M P_3YMAS P_3YMAS_F  \\\n",
       "1843  2398    7871   3915   3956   400     203     197    7471      3712   \n",
       "2545  0519     104     55     49    10       6       4      94        49   \n",
       "\n",
       "     P_3YMAS_M  ... VPH_CEL VPH_INTER VPH_STVP VPH_SPMVPI VPH_CVJ VPH_SINRTV  \\\n",
       "1843      3759  ...    1588      1136      550        269     162         45   \n",
       "2545        45  ...      25         6       25          6       0          0   \n",
       "\n",
       "     VPH_SINLTC VPH_SINCINT VPH_SINTIC         CVEGEO  \n",
       "1843        124         635         13  1903900012398  \n",
       "2545          0          11          0  1904900010519  \n",
       "\n",
       "[2 rows x 223 columns]"
      ]
     },
     "execution_count": 11,
     "metadata": {},
     "output_type": "execute_result"
    }
   ],
   "source": [
    "df.head()"
   ]
  },
  {
   "cell_type": "code",
   "execution_count": 15,
   "metadata": {},
   "outputs": [
    {
     "data": {
      "text/plain": [
       "1843    1.903900e+12\n",
       "2545    1.904900e+12\n",
       "Name: CVEGEO, dtype: float64"
      ]
     },
     "execution_count": 15,
     "metadata": {},
     "output_type": "execute_result"
    }
   ],
   "source": [
    "df['CVEGEO']"
   ]
  },
  {
   "cell_type": "markdown",
   "metadata": {},
   "source": [
    "# Columns cleaning "
   ]
  },
  {
   "cell_type": "code",
   "execution_count": 5,
   "metadata": {},
   "outputs": [],
   "source": [
    "df = df.drop(columns = ['Unnamed: 0','NOM_ENT','NOM_MUN', 'MZA', 'NOM_LOC', 'ENTIDAD', 'MUN', 'LOC'])"
   ]
  },
  {
   "cell_type": "code",
   "execution_count": 6,
   "metadata": {},
   "outputs": [
    {
     "data": {
      "text/plain": [
       "Index(['AGEB', 'POBTOT', 'POBFEM', 'POBMAS', 'P_0A2', 'P_0A2_F', 'P_0A2_M',\n",
       "       'P_3YMAS', 'P_3YMAS_F', 'P_3YMAS_M',\n",
       "       ...\n",
       "       'VPH_CEL', 'VPH_INTER', 'VPH_STVP', 'VPH_SPMVPI', 'VPH_CVJ',\n",
       "       'VPH_SINRTV', 'VPH_SINLTC', 'VPH_SINCINT', 'VPH_SINTIC', 'CVEGEO'],\n",
       "      dtype='object', length=223)"
      ]
     },
     "execution_count": 6,
     "metadata": {},
     "output_type": "execute_result"
    }
   ],
   "source": [
    "df.columns"
   ]
  },
  {
   "cell_type": "markdown",
   "metadata": {},
   "source": []
  },
  {
   "cell_type": "markdown",
   "metadata": {},
   "source": [
    "# Clean NaN"
   ]
  },
  {
   "cell_type": "code",
   "execution_count": 7,
   "metadata": {},
   "outputs": [],
   "source": [
    "def repl_star(x):\n",
    "    return x.replace('*', np.nan)"
   ]
  },
  {
   "cell_type": "code",
   "execution_count": 8,
   "metadata": {},
   "outputs": [],
   "source": [
    "df = df.apply(repl_star, axis=1)"
   ]
  },
  {
   "cell_type": "code",
   "execution_count": 9,
   "metadata": {},
   "outputs": [],
   "source": [
    "df = df.dropna()"
   ]
  },
  {
   "cell_type": "markdown",
   "metadata": {},
   "source": [
    "# Columns Engineering"
   ]
  },
  {
   "cell_type": "code",
   "execution_count": null,
   "metadata": {},
   "outputs": [],
   "source": [
    "df_new = df.rename(columns = {'POBTOT':'pob_ttl',\n",
    "                'POBFEM':'pob_fem',\n",
    "                'POBMAS':'pob_mas',\n",
    "                'P_3A5':'pob_3-5',\n",
    "                'P_6A11':'pob_6-11',\n",
    "                'P_8A14' :'pob_8-14',\n",
    "                'P_15A17' :'pob_15-17'\n",
    "                'P_18A24' :'pob_18-24'\n",
    "                'P_60YMAS' :'pob_65'\n",
    "                'PNACENT':'pob_local'\n",
    "                'PHOG_IND' :'pob_indigena'\n",
    "                'POB_AFRO' :'pob_afro'\n",
    "                'PCON_DISC':'pob_discap',\n",
    "                'PCLIM_PMEN':'pob_discap_mental'\n",
    "                'PCDISC_MOT': 'pob_discap_motriz',\n",
    "                'P3A5_NOA': '3_5_sinescuela',\n",
    "                'P6A11_NOA': '6_11_sinescuela',\n",
    "                'P8A14AN': '8_14_analphab',\n",
    "                'P15SEC_INM': '15_nosecundaria',\n",
    "                'P18A24A': '18_24_analphab',\n",
    "                'PEA':'pob_activa',\n",
    "                'PDESOCUP':'pob_desocupada',\n",
    "                'PSINDER': 'sin_salud',\n",
    "                'PDER_IMSS': 'imss_salud',\n",
    "                'PDER_ISTE': 'issste_salud',\n",
    "                'PDER_SEGP': 'secr_salud',\n",
    "                'PAFIL_IPRIV': 'priv_salud',\n",
    "                'PCATOLICA': 'catolica',\n",
    "                })"
   ]
  },
  {
   "cell_type": "markdown",
   "metadata": {},
   "source": [
    "# Function absolute"
   ]
  },
  {
   "cell_type": "code",
   "execution_count": null,
   "metadata": {},
   "outputs": [],
   "source": [
    "'POBTOT','POBFEM','POBMAS','P_3A5','P_6A11','PCON_DISC','PCLIM_PMEN','PCDISC_MOT','P3A5_NOA','P6A11_NOA','P8A14AN','P15SEC_INM','P18A24A','PEA','PDESOCUP','PSINDER','PDER_IMSS','PDER_ISTE','PDER_SEGP','PAFIL_IPRIV','PCATOLICA'"
   ]
  },
  {
   "cell_type": "markdown",
   "metadata": {},
   "source": [
    "# Function relative"
   ]
  },
  {
   "cell_type": "code",
   "execution_count": 12,
   "metadata": {},
   "outputs": [],
   "source": [
    "df = df.astype('float64')"
   ]
  },
  {
   "cell_type": "code",
   "execution_count": null,
   "metadata": {},
   "outputs": [],
   "source": [
    "def ratio_pop(x):\n",
    "    columns = ['pob_ttl', 'pob_fem', 'pob_mas', 'pob_3_5', 'pob_6_11',\n",
    "       'pob_65', 'pob_indigena', 'pob_afro', 'pob_discap', 'pob_discap_mental',\n",
    "       'pob_discap_motriz', '3_5_sinescuela', '6_11_sinescuela',\n",
    "       '8_14_analphab', '15_nosecundaria', '18_24_analphab', 'pob_activa',\n",
    "       'pob_desocupada', 'sin_salud', 'imss_salud', 'issste_salud',\n",
    "       'secr_salud', 'priv_salud', 'catolica']\n",
    "    for col in columns:\n",
    "        x[col] = x[col]/x['pob_ttl']\n",
    "    return x"
   ]
  },
  {
   "cell_type": "code",
   "execution_count": null,
   "metadata": {},
   "outputs": [],
   "source": [
    "df_relative = df_pop.apply(ratio_pop, axis = 1)"
   ]
  }
 ],
 "metadata": {
  "kernelspec": {
   "display_name": "Python 3",
   "language": "python",
   "name": "python3"
  },
  "language_info": {
   "codemirror_mode": {
    "name": "ipython",
    "version": 3
   },
   "file_extension": ".py",
   "mimetype": "text/x-python",
   "name": "python",
   "nbconvert_exporter": "python",
   "pygments_lexer": "ipython3",
   "version": "3.8.6"
  }
 },
 "nbformat": 4,
 "nbformat_minor": 4
}

{
 "cells": [
  {
   "cell_type": "code",
   "execution_count": 1,
   "metadata": {},
   "outputs": [],
   "source": [
    "import pandas as pd\n",
    "import numpy as np\n",
    "import matplotlib.pyplot as plt"
   ]
  },
  {
   "cell_type": "code",
   "execution_count": 2,
   "metadata": {},
   "outputs": [],
   "source": [
    "%load_ext autoreload\n",
    "%reload_ext autoreload\n",
    "%autoreload 2"
   ]
  },
  {
   "cell_type": "markdown",
   "metadata": {},
   "source": [
    "# Data exploration"
   ]
  },
  {
   "cell_type": "code",
   "execution_count": 3,
   "metadata": {},
   "outputs": [],
   "source": [
    "df = pd.read_csv('../raw_data/census.csv')"
   ]
  },
  {
   "cell_type": "code",
   "execution_count": 4,
   "metadata": {},
   "outputs": [
    {
     "data": {
      "text/html": [
       "<div>\n",
       "<style scoped>\n",
       "    .dataframe tbody tr th:only-of-type {\n",
       "        vertical-align: middle;\n",
       "    }\n",
       "\n",
       "    .dataframe tbody tr th {\n",
       "        vertical-align: top;\n",
       "    }\n",
       "\n",
       "    .dataframe thead th {\n",
       "        text-align: right;\n",
       "    }\n",
       "</style>\n",
       "<table border=\"1\" class=\"dataframe\">\n",
       "  <thead>\n",
       "    <tr style=\"text-align: right;\">\n",
       "      <th></th>\n",
       "      <th>Unnamed: 0</th>\n",
       "      <th>ENTIDAD</th>\n",
       "      <th>NOM_ENT</th>\n",
       "      <th>MUN</th>\n",
       "      <th>NOM_MUN</th>\n",
       "      <th>LOC</th>\n",
       "      <th>NOM_LOC</th>\n",
       "      <th>AGEB</th>\n",
       "      <th>MZA</th>\n",
       "      <th>POBTOT</th>\n",
       "      <th>...</th>\n",
       "      <th>VPH_CEL</th>\n",
       "      <th>VPH_INTER</th>\n",
       "      <th>VPH_STVP</th>\n",
       "      <th>VPH_SPMVPI</th>\n",
       "      <th>VPH_CVJ</th>\n",
       "      <th>VPH_SINRTV</th>\n",
       "      <th>VPH_SINLTC</th>\n",
       "      <th>VPH_SINCINT</th>\n",
       "      <th>VPH_SINTIC</th>\n",
       "      <th>CVEGEO</th>\n",
       "    </tr>\n",
       "  </thead>\n",
       "  <tbody>\n",
       "    <tr>\n",
       "      <th>0</th>\n",
       "      <td>6</td>\n",
       "      <td>19</td>\n",
       "      <td>Nuevo León</td>\n",
       "      <td>4</td>\n",
       "      <td>Allende</td>\n",
       "      <td>1</td>\n",
       "      <td>Total AGEB urbana</td>\n",
       "      <td>0095</td>\n",
       "      <td>0</td>\n",
       "      <td>721</td>\n",
       "      <td>...</td>\n",
       "      <td>228</td>\n",
       "      <td>156</td>\n",
       "      <td>138</td>\n",
       "      <td>76</td>\n",
       "      <td>39</td>\n",
       "      <td>*</td>\n",
       "      <td>10</td>\n",
       "      <td>74</td>\n",
       "      <td>0</td>\n",
       "      <td>1900400010095</td>\n",
       "    </tr>\n",
       "    <tr>\n",
       "      <th>1</th>\n",
       "      <td>41</td>\n",
       "      <td>19</td>\n",
       "      <td>Nuevo León</td>\n",
       "      <td>4</td>\n",
       "      <td>Allende</td>\n",
       "      <td>1</td>\n",
       "      <td>Total AGEB urbana</td>\n",
       "      <td>0112</td>\n",
       "      <td>0</td>\n",
       "      <td>624</td>\n",
       "      <td>...</td>\n",
       "      <td>153</td>\n",
       "      <td>147</td>\n",
       "      <td>124</td>\n",
       "      <td>59</td>\n",
       "      <td>30</td>\n",
       "      <td>4</td>\n",
       "      <td>7</td>\n",
       "      <td>22</td>\n",
       "      <td>*</td>\n",
       "      <td>1900400010112</td>\n",
       "    </tr>\n",
       "    <tr>\n",
       "      <th>2</th>\n",
       "      <td>74</td>\n",
       "      <td>19</td>\n",
       "      <td>Nuevo León</td>\n",
       "      <td>4</td>\n",
       "      <td>Allende</td>\n",
       "      <td>1</td>\n",
       "      <td>Total AGEB urbana</td>\n",
       "      <td>0127</td>\n",
       "      <td>0</td>\n",
       "      <td>431</td>\n",
       "      <td>...</td>\n",
       "      <td>151</td>\n",
       "      <td>123</td>\n",
       "      <td>124</td>\n",
       "      <td>47</td>\n",
       "      <td>16</td>\n",
       "      <td>5</td>\n",
       "      <td>5</td>\n",
       "      <td>40</td>\n",
       "      <td>0</td>\n",
       "      <td>1900400010127</td>\n",
       "    </tr>\n",
       "    <tr>\n",
       "      <th>3</th>\n",
       "      <td>99</td>\n",
       "      <td>19</td>\n",
       "      <td>Nuevo León</td>\n",
       "      <td>4</td>\n",
       "      <td>Allende</td>\n",
       "      <td>1</td>\n",
       "      <td>Total AGEB urbana</td>\n",
       "      <td>0131</td>\n",
       "      <td>0</td>\n",
       "      <td>1243</td>\n",
       "      <td>...</td>\n",
       "      <td>375</td>\n",
       "      <td>257</td>\n",
       "      <td>278</td>\n",
       "      <td>57</td>\n",
       "      <td>28</td>\n",
       "      <td>10</td>\n",
       "      <td>22</td>\n",
       "      <td>141</td>\n",
       "      <td>3</td>\n",
       "      <td>1900400010131</td>\n",
       "    </tr>\n",
       "    <tr>\n",
       "      <th>4</th>\n",
       "      <td>131</td>\n",
       "      <td>19</td>\n",
       "      <td>Nuevo León</td>\n",
       "      <td>4</td>\n",
       "      <td>Allende</td>\n",
       "      <td>1</td>\n",
       "      <td>Total AGEB urbana</td>\n",
       "      <td>0146</td>\n",
       "      <td>0</td>\n",
       "      <td>2145</td>\n",
       "      <td>...</td>\n",
       "      <td>649</td>\n",
       "      <td>587</td>\n",
       "      <td>491</td>\n",
       "      <td>319</td>\n",
       "      <td>181</td>\n",
       "      <td>9</td>\n",
       "      <td>5</td>\n",
       "      <td>68</td>\n",
       "      <td>*</td>\n",
       "      <td>1900400010146</td>\n",
       "    </tr>\n",
       "  </tbody>\n",
       "</table>\n",
       "<p>5 rows × 231 columns</p>\n",
       "</div>"
      ],
      "text/plain": [
       "   Unnamed: 0  ENTIDAD     NOM_ENT  MUN  NOM_MUN  LOC            NOM_LOC  \\\n",
       "0           6       19  Nuevo León    4  Allende    1  Total AGEB urbana   \n",
       "1          41       19  Nuevo León    4  Allende    1  Total AGEB urbana   \n",
       "2          74       19  Nuevo León    4  Allende    1  Total AGEB urbana   \n",
       "3          99       19  Nuevo León    4  Allende    1  Total AGEB urbana   \n",
       "4         131       19  Nuevo León    4  Allende    1  Total AGEB urbana   \n",
       "\n",
       "   AGEB  MZA  POBTOT  ... VPH_CEL VPH_INTER VPH_STVP VPH_SPMVPI VPH_CVJ  \\\n",
       "0  0095    0     721  ...     228       156      138         76      39   \n",
       "1  0112    0     624  ...     153       147      124         59      30   \n",
       "2  0127    0     431  ...     151       123      124         47      16   \n",
       "3  0131    0    1243  ...     375       257      278         57      28   \n",
       "4  0146    0    2145  ...     649       587      491        319     181   \n",
       "\n",
       "  VPH_SINRTV VPH_SINLTC VPH_SINCINT VPH_SINTIC         CVEGEO  \n",
       "0          *         10          74          0  1900400010095  \n",
       "1          4          7          22          *  1900400010112  \n",
       "2          5          5          40          0  1900400010127  \n",
       "3         10         22         141          3  1900400010131  \n",
       "4          9          5          68          *  1900400010146  \n",
       "\n",
       "[5 rows x 231 columns]"
      ]
     },
     "execution_count": 4,
     "metadata": {},
     "output_type": "execute_result"
    }
   ],
   "source": [
    "df.head()"
   ]
  },
  {
   "cell_type": "code",
   "execution_count": 5,
   "metadata": {
    "collapsed": true
   },
   "outputs": [
    {
     "data": {
      "text/plain": [
       "0       1900400010095\n",
       "1       1900400010112\n",
       "2       1900400010127\n",
       "3       1900400010131\n",
       "4       1900400010146\n",
       "            ...      \n",
       "2570    1905100010292\n",
       "2571    1905100010305\n",
       "2572    190510001031A\n",
       "2573    1905100010324\n",
       "2574    1905100010339\n",
       "Name: CVEGEO, Length: 2575, dtype: object"
      ]
     },
     "execution_count": 5,
     "metadata": {},
     "output_type": "execute_result"
    }
   ],
   "source": [
    "df['CVEGEO']"
   ]
  },
  {
   "cell_type": "markdown",
   "metadata": {},
   "source": [
    "# Columns cleaning "
   ]
  },
  {
   "cell_type": "code",
   "execution_count": 6,
   "metadata": {},
   "outputs": [],
   "source": [
    "df = df.drop(columns = ['Unnamed: 0','NOM_ENT','NOM_MUN', 'MZA', 'NOM_LOC', 'ENTIDAD', 'MUN', 'LOC'])"
   ]
  },
  {
   "cell_type": "code",
   "execution_count": 7,
   "metadata": {},
   "outputs": [],
   "source": [
    "df = df[['CVEGEO','POBTOT','POBFEM', 'POBMAS', 'P_3A5','P_6A11','P_8A14', 'P_15A17', 'P_18A24', 'P_60YMAS', 'PNACENT','PHOG_IND' ,'POB_AFRO', 'PCON_DISC','PCLIM_PMEN','PCDISC_MOT','P3A5_NOA','P6A11_NOA','P8A14AN','P15SEC_INM','P18A24A','PEA','PDESOCUP','PSINDER','PDER_IMSS','PDER_ISTE','PDER_SEGP','PAFIL_IPRIV','PCATOLICA', 'VIVTOT','VIVPAR_DES','VPH_PISOTI','VPH_S_ELEC','VPH_NODREN','VPH_NDEAED','VPH_AUTOM','VPH_BICI','VPH_CEL','VPH_INTER','VPH_STVP','VPH_SINCINT']]"
   ]
  },
  {
   "cell_type": "code",
   "execution_count": 8,
   "metadata": {
    "collapsed": true
   },
   "outputs": [
    {
     "data": {
      "text/plain": [
       "Index(['CVEGEO', 'POBTOT', 'POBFEM', 'POBMAS', 'P_3A5', 'P_6A11', 'P_8A14',\n",
       "       'P_15A17', 'P_18A24', 'P_60YMAS', 'PNACENT', 'PHOG_IND', 'POB_AFRO',\n",
       "       'PCON_DISC', 'PCLIM_PMEN', 'PCDISC_MOT', 'P3A5_NOA', 'P6A11_NOA',\n",
       "       'P8A14AN', 'P15SEC_INM', 'P18A24A', 'PEA', 'PDESOCUP', 'PSINDER',\n",
       "       'PDER_IMSS', 'PDER_ISTE', 'PDER_SEGP', 'PAFIL_IPRIV', 'PCATOLICA',\n",
       "       'VIVTOT', 'VIVPAR_DES', 'VPH_PISOTI', 'VPH_S_ELEC', 'VPH_NODREN',\n",
       "       'VPH_NDEAED', 'VPH_AUTOM', 'VPH_BICI', 'VPH_CEL', 'VPH_INTER',\n",
       "       'VPH_STVP', 'VPH_SINCINT'],\n",
       "      dtype='object')"
      ]
     },
     "execution_count": 8,
     "metadata": {},
     "output_type": "execute_result"
    }
   ],
   "source": [
    "df.columns"
   ]
  },
  {
   "cell_type": "markdown",
   "metadata": {},
   "source": []
  },
  {
   "cell_type": "markdown",
   "metadata": {},
   "source": [
    "# Clean NaN"
   ]
  },
  {
   "cell_type": "code",
   "execution_count": 9,
   "metadata": {},
   "outputs": [],
   "source": [
    "def repl_star(x):\n",
    "    return x.replace('*', np.nan)"
   ]
  },
  {
   "cell_type": "code",
   "execution_count": 10,
   "metadata": {},
   "outputs": [],
   "source": [
    "df = df.apply(repl_star, axis=1)"
   ]
  },
  {
   "cell_type": "code",
   "execution_count": 11,
   "metadata": {},
   "outputs": [],
   "source": [
    "df = df.dropna()"
   ]
  },
  {
   "cell_type": "code",
   "execution_count": 12,
   "metadata": {
    "collapsed": true
   },
   "outputs": [
    {
     "data": {
      "text/plain": [
       "Index(['CVEGEO', 'POBTOT', 'POBFEM', 'POBMAS', 'P_3A5', 'P_6A11', 'P_8A14',\n",
       "       'P_15A17', 'P_18A24', 'P_60YMAS', 'PNACENT', 'PHOG_IND', 'POB_AFRO',\n",
       "       'PCON_DISC', 'PCLIM_PMEN', 'PCDISC_MOT', 'P3A5_NOA', 'P6A11_NOA',\n",
       "       'P8A14AN', 'P15SEC_INM', 'P18A24A', 'PEA', 'PDESOCUP', 'PSINDER',\n",
       "       'PDER_IMSS', 'PDER_ISTE', 'PDER_SEGP', 'PAFIL_IPRIV', 'PCATOLICA',\n",
       "       'VIVTOT', 'VIVPAR_DES', 'VPH_PISOTI', 'VPH_S_ELEC', 'VPH_NODREN',\n",
       "       'VPH_NDEAED', 'VPH_AUTOM', 'VPH_BICI', 'VPH_CEL', 'VPH_INTER',\n",
       "       'VPH_STVP', 'VPH_SINCINT'],\n",
       "      dtype='object')"
      ]
     },
     "execution_count": 12,
     "metadata": {},
     "output_type": "execute_result"
    }
   ],
   "source": [
    "df.columns"
   ]
  },
  {
   "cell_type": "markdown",
   "metadata": {},
   "source": [
    "# Columns Engineering"
   ]
  },
  {
   "cell_type": "code",
   "execution_count": 13,
   "metadata": {},
   "outputs": [],
   "source": [
    "df_new = df.rename(columns = {'POBTOT':'pob_ttl',\n",
    "                'POBFEM':'pob_fem',\n",
    "                'POBMAS':'pob_mas',\n",
    "                'P_3A5':'pob_3-5',\n",
    "                'P_6A11':'pob_6-11',\n",
    "                'P_8A14' :'pob_8-14',\n",
    "                'P_15A17' :'pob_15-17',\n",
    "                'P_18A24' :'pob_18-24',\n",
    "                'P_60YMAS' :'pob_65',\n",
    "                'PNACENT':'pob_local',\n",
    "                'PHOG_IND' :'pob_indigena',\n",
    "                'POB_AFRO' :'pob_afro',\n",
    "                'PCON_DISC':'pob_discap',\n",
    "                'PCLIM_PMEN':'pob_discap_mental',\n",
    "                'PCDISC_MOT': 'pob_discap_motriz',\n",
    "                'P3A5_NOA': '3_5_sinescuela',\n",
    "                'P6A11_NOA': '6_11_sinescuela',\n",
    "                'P8A14AN': '8_14_analphab',\n",
    "                'P15SEC_INM': '15_nosecundaria',\n",
    "                'P18A24A': '18_24_analphab',\n",
    "                'PEA':'pob_activa',\n",
    "                'PDESOCUP':'pob_desocupada',\n",
    "                'PSINDER': 'sin_salud',\n",
    "                'PDER_IMSS': 'imss_salud',\n",
    "                'PDER_ISTE': 'issste_salud',\n",
    "                'PDER_SEGP': 'secr_salud',\n",
    "                'PAFIL_IPRIV': 'priv_salud',\n",
    "                'PCATOLICA': 'catolica',\n",
    "                \"VIVTOT\":\"viv_ttl\",\n",
    "                \"VIVPAR_DES\":'viv_deshabit',\n",
    "                \"VPH_PISOTI\":\"piso_tierra\",\n",
    "                \"VPH_S_ELEC\":\"no_electricidad\",\n",
    "                \"VPH_NODREN\":\"no_drenaje\",\n",
    "                \"VPH_NDEAED\":\"sin_infras\",\n",
    "                \"VPH_AUTOM\":\"con_camonieta\",\n",
    "                \"VPH_BICI\":\"solo_bici\",\n",
    "                \"VPH_CEL\":\"celular\",\n",
    "                \"VPH_INTER\":\"internet\",\n",
    "                \"VPH_STVP\":\"servicio_pago\",\n",
    "                \"VPH_SINCINT\":\"nopc_nointernet\"})"
   ]
  },
  {
   "cell_type": "code",
   "execution_count": 14,
   "metadata": {
    "collapsed": true
   },
   "outputs": [
    {
     "data": {
      "text/plain": [
       "Index(['CVEGEO', 'pob_ttl', 'pob_fem', 'pob_mas', 'pob_3-5', 'pob_6-11',\n",
       "       'pob_8-14', 'pob_15-17', 'pob_18-24', 'pob_65', 'pob_local',\n",
       "       'pob_indigena', 'pob_afro', 'pob_discap', 'pob_discap_mental',\n",
       "       'pob_discap_motriz', '3_5_sinescuela', '6_11_sinescuela',\n",
       "       '8_14_analphab', '15_nosecundaria', '18_24_analphab', 'pob_activa',\n",
       "       'pob_desocupada', 'sin_salud', 'imss_salud', 'issste_salud',\n",
       "       'secr_salud', 'priv_salud', 'catolica', 'viv_ttl', 'viv_deshabit',\n",
       "       'piso_tierra', 'no_electricidad', 'no_drenaje', 'sin_infras',\n",
       "       'con_camonieta', 'solo_bici', 'celular', 'internet', 'servicio_pago',\n",
       "       'nopc_nointernet'],\n",
       "      dtype='object')"
      ]
     },
     "execution_count": 14,
     "metadata": {},
     "output_type": "execute_result"
    }
   ],
   "source": [
    "df_new.columns"
   ]
  },
  {
   "cell_type": "markdown",
   "metadata": {},
   "source": [
    "# Function absolute"
   ]
  },
  {
   "cell_type": "code",
   "execution_count": 15,
   "metadata": {},
   "outputs": [],
   "source": [
    "df_absolute = df_new"
   ]
  },
  {
   "cell_type": "code",
   "execution_count": 16,
   "metadata": {
    "collapsed": true
   },
   "outputs": [
    {
     "data": {
      "text/plain": [
       "array(['0', '0', '0', '0', '0', '0', '0', '0', '0', '0', '0', '0', '0',\n",
       "       '0', '0', '0', '0', '0', '0', '0', '0', '0', '0', '0', '0', '0',\n",
       "       '0', '0', '0', '0', '0', '0', '0', '0', '0', '0', '0', '0', '0',\n",
       "       '0', '0', '0', '0', '0', '0', '0', '0', '0', '0', '0', '0', '0',\n",
       "       '0', '0', '0', '0', '0', '0', '0', '0', '0', '0', '0', '0', '0',\n",
       "       '0', '0', '0', '0', '0', '0', '0', '0', '0', '0', '0', '0', '0',\n",
       "       '0', '0', '0', '0', '0', '0', '0', '0', '0', '0', '0', '0', '0',\n",
       "       '0', '0', '0', '0', '0', '0', '0', '0', '0', '0', '0', '0', '0',\n",
       "       '0', '0', '0', '0', '0', '0', '0', '0', '0', '0', '0', '3', '0',\n",
       "       '0', '0', '0', '0', '0', '0', '0', '0', '0', '0', '0', '0', '0',\n",
       "       '0', '0', '0', '0', '0', '0', '0', '0', '0', '0', '0', '0', '0',\n",
       "       '0', '0', '0', '0', '0', '0', '0', '0', '0', '0', '0', '0', '0',\n",
       "       '0', '0', '0', '0', '0', '0', '0', '0', '0', '0', '0', '0', '0',\n",
       "       '0', '0', '0', '0', '0', '0', '0', '0', '0', '0', '0', '0', '0',\n",
       "       '0', '0', '0', '0', '0', '0', '0', '0', '0', '0', '0', '0', '0',\n",
       "       '0', '0', '0', '0', '0', '0', '0', '0', '0', '0', '0', '0', '0',\n",
       "       '0', '0', '0', '0', '0', '0', '0', '0', '0', '0', '0', '0', '0',\n",
       "       '0', '0', '0', '0', '0', '0', '0', '0', '0', '0', '0', '0', '0',\n",
       "       '0', '0', '0', '0', '0', '0', '0', '0', '0', '0', '0', '0', '0',\n",
       "       '0', '0', '0', '0', '0', '0', '0', '0', '0', '0', '0', '0', '0',\n",
       "       '0', '0', '0', '0', '0', '0', '0', '0', '0', '0', '0', '0', '4',\n",
       "       '0', '0', '0', '0', '0', '0', '0', '0', '0', '0', '0', '0', '0',\n",
       "       '0', '0', '0', '0', '0', '0', '0', '0', '0', '0', '0', '0', '0',\n",
       "       '0', '0', '0', '0', '0', '0', '0', '3', '0', '0', '0', '0', '0',\n",
       "       '0', '0', '0', '0', '0', '0', '3', '0', '0', '0', '0', '0', '0',\n",
       "       '0', '0', '0', '0', '0', '0', '0', '0', '0', '0', '0', '0', '0',\n",
       "       '0', '0', '0', '0', '0', '0', '0', '0', '0', '0', '0', '0', '0',\n",
       "       '0', '0', '0', '0', '0', '0', '0', '0', '0', '0', '0', '0', '0',\n",
       "       '0', '0', '0', '0', '0', '0', '0', '0', '0', '0', '0', '0', '0',\n",
       "       '0', '0', '0', '0', '0', '0', '0', '0', '0', '0', '0', '0', '0',\n",
       "       '0', '0', '0', '0', '0', '0', '0', '0', '0', '0', '0', '0', '0',\n",
       "       '0', '0', '0', '0', '0', '0', '0'], dtype=object)"
      ]
     },
     "execution_count": 16,
     "metadata": {},
     "output_type": "execute_result"
    }
   ],
   "source": [
    "df_absolute['sin_infras'].values"
   ]
  },
  {
   "cell_type": "code",
   "execution_count": 17,
   "metadata": {},
   "outputs": [],
   "source": [
    "df_absolute.to_csv(\"../raw_data/census_absolute.csv\")"
   ]
  },
  {
   "cell_type": "markdown",
   "metadata": {},
   "source": [
    "# Function relative"
   ]
  },
  {
   "cell_type": "code",
   "execution_count": 29,
   "metadata": {
    "collapsed": true
   },
   "outputs": [
    {
     "data": {
      "text/plain": [
       "pob_ttl              float64\n",
       "pob_fem              float64\n",
       "pob_mas              float64\n",
       "pob_3-5              float64\n",
       "pob_6-11             float64\n",
       "pob_8-14             float64\n",
       "pob_15-17            float64\n",
       "pob_18-24            float64\n",
       "pob_65               float64\n",
       "pob_local            float64\n",
       "pob_indigena         float64\n",
       "pob_afro             float64\n",
       "pob_discap           float64\n",
       "pob_discap_mental    float64\n",
       "pob_discap_motriz    float64\n",
       "3_5_sinescuela       float64\n",
       "6_11_sinescuela      float64\n",
       "8_14_analphab        float64\n",
       "15_nosecundaria      float64\n",
       "18_24_analphab       float64\n",
       "pob_activa           float64\n",
       "pob_desocupada       float64\n",
       "sin_salud            float64\n",
       "imss_salud           float64\n",
       "issste_salud         float64\n",
       "secr_salud           float64\n",
       "priv_salud           float64\n",
       "catolica             float64\n",
       "viv_ttl              float64\n",
       "viv_deshabit         float64\n",
       "piso_tierra          float64\n",
       "no_electricidad      float64\n",
       "no_drenaje           float64\n",
       "sin_infras           float64\n",
       "con_camonieta        float64\n",
       "solo_bici            float64\n",
       "celular              float64\n",
       "internet             float64\n",
       "servicio_pago        float64\n",
       "nopc_nointernet      float64\n",
       "dtype: object"
      ]
     },
     "execution_count": 29,
     "metadata": {},
     "output_type": "execute_result"
    }
   ],
   "source": [
    "df_sin_CVEGEO.dtypes"
   ]
  },
  {
   "cell_type": "code",
   "execution_count": 18,
   "metadata": {},
   "outputs": [],
   "source": [
    "df_sin_CVEGEO = df_new[['pob_ttl', 'pob_fem', 'pob_mas', 'pob_3-5', 'pob_6-11',\n",
    "       'pob_8-14', 'pob_15-17', 'pob_18-24', 'pob_65', 'pob_local',\n",
    "       'pob_indigena', 'pob_afro', 'pob_discap', 'pob_discap_mental',\n",
    "       'pob_discap_motriz', '3_5_sinescuela', '6_11_sinescuela',\n",
    "       '8_14_analphab', '15_nosecundaria', '18_24_analphab', 'pob_activa',\n",
    "       'pob_desocupada', 'sin_salud', 'imss_salud', 'issste_salud',\n",
    "       'secr_salud', 'priv_salud', 'catolica', 'viv_ttl', 'viv_deshabit',\n",
    "       'piso_tierra', 'no_electricidad', 'no_drenaje', 'sin_infras',\n",
    "       'con_camonieta', 'solo_bici', 'celular', 'internet', 'servicio_pago',\n",
    "       'nopc_nointernet']]"
   ]
  },
  {
   "cell_type": "code",
   "execution_count": 28,
   "metadata": {},
   "outputs": [],
   "source": [
    "df_sin_CVEGEO = df_sin_CVEGEO.astype('float64')"
   ]
  },
  {
   "cell_type": "code",
   "execution_count": 32,
   "metadata": {},
   "outputs": [],
   "source": [
    "def ratio(x):\n",
    "    columns_pob = ['pob_fem', 'pob_mas', 'pob_3-5', 'pob_6-11',\n",
    "       'pob_8-14', 'pob_15-17', 'pob_18-24', 'pob_65', 'pob_local',\n",
    "       'pob_indigena', 'pob_afro', 'pob_discap', 'pob_discap_mental',\n",
    "       'pob_discap_motriz', '3_5_sinescuela', '6_11_sinescuela',\n",
    "       '8_14_analphab', '15_nosecundaria', '18_24_analphab', 'pob_activa',\n",
    "       'pob_desocupada', 'sin_salud', 'imss_salud', 'issste_salud',\n",
    "       'secr_salud', 'priv_salud', 'catolica']\n",
    "    columns_viv = ['viv_deshabit',\n",
    "       'piso_tierra', 'no_electricidad', 'no_drenaje', 'sin_infras',\n",
    "       'con_camonieta', 'solo_bici', 'celular', 'internet', 'servicio_pago',\n",
    "       'nopc_nointernet']\n",
    "    for col_pob in columns_pob:\n",
    "        x[col_pob] = x[col_pob]/x['pob_ttl']\n",
    "    for col_viv in columns_viv:\n",
    "        x[col_viv] = x[col_viv]/x['viv_ttl']\n",
    "    return x"
   ]
  },
  {
   "cell_type": "code",
   "execution_count": 33,
   "metadata": {},
   "outputs": [],
   "source": [
    "df_relative = df_sin_CVEGEO.apply(ratio, axis = 1)"
   ]
  },
  {
   "cell_type": "code",
   "execution_count": 35,
   "metadata": {},
   "outputs": [],
   "source": [
    "df_relative['CVEGEO'] = df_new['CVEGEO']"
   ]
  },
  {
   "cell_type": "code",
   "execution_count": 38,
   "metadata": {
    "collapsed": true
   },
   "outputs": [
    {
     "data": {
      "text/plain": [
       "['pob_ttl',\n",
       " 'pob_fem',\n",
       " 'pob_mas',\n",
       " 'pob_3-5',\n",
       " 'pob_6-11',\n",
       " 'pob_8-14',\n",
       " 'pob_15-17',\n",
       " 'pob_18-24',\n",
       " 'pob_65',\n",
       " 'pob_local',\n",
       " 'pob_indigena',\n",
       " 'pob_afro',\n",
       " 'pob_discap',\n",
       " 'pob_discap_mental',\n",
       " 'pob_discap_motriz',\n",
       " '3_5_sinescuela',\n",
       " '6_11_sinescuela',\n",
       " '8_14_analphab',\n",
       " '15_nosecundaria',\n",
       " '18_24_analphab',\n",
       " 'pob_activa',\n",
       " 'pob_desocupada',\n",
       " 'sin_salud',\n",
       " 'imss_salud',\n",
       " 'issste_salud',\n",
       " 'secr_salud',\n",
       " 'priv_salud',\n",
       " 'catolica',\n",
       " 'viv_ttl',\n",
       " 'viv_deshabit',\n",
       " 'piso_tierra',\n",
       " 'no_electricidad',\n",
       " 'no_drenaje',\n",
       " 'sin_infras',\n",
       " 'con_camonieta',\n",
       " 'solo_bici',\n",
       " 'celular',\n",
       " 'internet',\n",
       " 'servicio_pago',\n",
       " 'nopc_nointernet',\n",
       " 'CVEGEO']"
      ]
     },
     "execution_count": 38,
     "metadata": {},
     "output_type": "execute_result"
    }
   ],
   "source": [
    "cols = df_relative.columns.tolist()\n",
    "cols"
   ]
  },
  {
   "cell_type": "code",
   "execution_count": 39,
   "metadata": {},
   "outputs": [],
   "source": [
    "cols = cols[-1:] + cols[:-1]"
   ]
  },
  {
   "cell_type": "code",
   "execution_count": 40,
   "metadata": {},
   "outputs": [],
   "source": [
    "df_relative = df_relative[cols]"
   ]
  },
  {
   "cell_type": "code",
   "execution_count": 42,
   "metadata": {},
   "outputs": [],
   "source": [
    "df_relative.to_csv('../raw_data/census_relative.csv')"
   ]
  }
 ],
 "metadata": {
  "kernelspec": {
   "display_name": "Python 3",
   "language": "python",
   "name": "python3"
  },
  "language_info": {
   "codemirror_mode": {
    "name": "ipython",
    "version": 3
   },
   "file_extension": ".py",
   "mimetype": "text/x-python",
   "name": "python",
   "nbconvert_exporter": "python",
   "pygments_lexer": "ipython3",
   "version": "3.8.6"
  }
 },
 "nbformat": 4,
 "nbformat_minor": 4
}

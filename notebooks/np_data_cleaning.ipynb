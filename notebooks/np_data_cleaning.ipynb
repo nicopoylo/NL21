{
 "cells": [
  {
   "cell_type": "code",
   "execution_count": 2,
   "id": "forced-australian",
   "metadata": {},
   "outputs": [],
   "source": [
    "import pandas as pd\n",
    "import numpy as np\n",
    "import seaborn as sns\n",
    "import matplotlib.pyplot as plt\n",
    "import geopandas as gpd\n",
    "import matplotlib.pyplot as plt\n",
    "%matplotlib inline\n",
    "import geopandas as gpd"
   ]
  },
  {
   "cell_type": "markdown",
   "id": "filled-kernel",
   "metadata": {},
   "source": [
    "# Electoral Results"
   ]
  },
  {
   "cell_type": "code",
   "execution_count": null,
   "id": "floating-cartoon",
   "metadata": {},
   "outputs": [],
   "source": [
    "dip = pd.read_excel('../raw_data/NL_AYUN_2018.xlsx')"
   ]
  },
  {
   "cell_type": "code",
   "execution_count": null,
   "id": "weird-understanding",
   "metadata": {
    "scrolled": false
   },
   "outputs": [],
   "source": [
    "dip.columns"
   ]
  },
  {
   "cell_type": "code",
   "execution_count": null,
   "id": "least-calcium",
   "metadata": {
    "scrolled": true
   },
   "outputs": [],
   "source": [
    "dip = dip.groupby(by=\"SECCION\").mean()\n",
    "dip.head()"
   ]
  },
  {
   "cell_type": "code",
   "execution_count": null,
   "id": "documented-cream",
   "metadata": {},
   "outputs": [],
   "source": [
    "dip_rel =dip"
   ]
  },
  {
   "cell_type": "code",
   "execution_count": null,
   "id": "painted-revelation",
   "metadata": {},
   "outputs": [],
   "source": [
    "dip_rel['participation'] = dip['TOTAL_VOTOS_CALCULADO']/dip['LISTA_NOMINAL']*100\n",
    "dip_rel['abstention'] = 100 - dip['participation']"
   ]
  },
  {
   "cell_type": "code",
   "execution_count": null,
   "id": "bulgarian-frank",
   "metadata": {},
   "outputs": [],
   "source": [
    "columns = ['PAN','PRI','PRD','PT','PVEM','MC','NAPPN','MORENA','PES', 'RED', 'C_PRI_PVEM', 'C_PT_MORENA_PES',\n",
    "       'C_PT_MORENA', 'C_PT_PES', 'C_MORENA_PES', 'CI_1', 'CI_2', 'CI_3',\n",
    "       'CI_4', 'CI_5', 'CI_6', 'CNR']\n",
    "\n",
    "for col in columns:\n",
    "    dip_rel[col] = (dip_rel[col]/dip_rel['TOTAL_VOTOS_CALCULADO'])*100"
   ]
  },
  {
   "cell_type": "code",
   "execution_count": null,
   "id": "facial-wonder",
   "metadata": {},
   "outputs": [],
   "source": [
    "dip_rel.head()"
   ]
  },
  {
   "cell_type": "code",
   "execution_count": null,
   "id": "norman-pharmaceutical",
   "metadata": {},
   "outputs": [],
   "source": [
    "dip_rel.to_csv('../raw_data/NL_dip_rel_2018.csv')"
   ]
  },
  {
   "cell_type": "code",
   "execution_count": null,
   "id": "romantic-literature",
   "metadata": {},
   "outputs": [],
   "source": [
    "dip.to_csv('../raw_data/NL_dip_2018.csv')"
   ]
  },
  {
   "cell_type": "code",
   "execution_count": null,
   "id": "sufficient-charles",
   "metadata": {},
   "outputs": [],
   "source": [
    "muni = pd.read_excel('../raw_data/Election_Results_2018/NL_AYUN_2018.xlsm')"
   ]
  },
  {
   "cell_type": "code",
   "execution_count": null,
   "id": "designing-graduation",
   "metadata": {
    "scrolled": true
   },
   "outputs": [],
   "source": [
    "muni.columns\n"
   ]
  },
  {
   "cell_type": "code",
   "execution_count": null,
   "id": "stretch-dictionary",
   "metadata": {},
   "outputs": [],
   "source": [
    "muni = muni.drop(columns=[' CLAVE_CASILLA', 'CLAVE_ACTA', 'ID_ESTADO', 'ESTADO', 'ID_MUNICIPIO',\n",
    "       'MUNICIPIO','ID_CASILLA', 'TIPO_CASILLA', 'EXT_CONTIGUA',\n",
    "       'UBICACION_CASILLA','FECHA_HORA_CAPTURA'])"
   ]
  },
  {
   "cell_type": "code",
   "execution_count": null,
   "id": "relative-error",
   "metadata": {
    "scrolled": true
   },
   "outputs": [],
   "source": [
    "muni.groupby(by=\"SECCION\").mean()"
   ]
  },
  {
   "cell_type": "code",
   "execution_count": null,
   "id": "utility-packet",
   "metadata": {},
   "outputs": [],
   "source": [
    "muni_rel = muni"
   ]
  },
  {
   "cell_type": "code",
   "execution_count": null,
   "id": "wooden-accident",
   "metadata": {},
   "outputs": [],
   "source": [
    "muni_rel['participation'] = muni_rel['TOTAL_VOTOS_CALCULADO']/muni_rel['LISTA_NOMINAL']*100\n",
    "muni_rel['abstention'] = 100 - muni_rel['participation']"
   ]
  },
  {
   "cell_type": "code",
   "execution_count": null,
   "id": "bright-florence",
   "metadata": {},
   "outputs": [],
   "source": [
    "muni_rel.columns"
   ]
  },
  {
   "cell_type": "code",
   "execution_count": null,
   "id": "recreational-calendar",
   "metadata": {},
   "outputs": [],
   "source": [
    "columns = ['PAN', 'PRI', 'PRD', 'PT', 'PVEM', 'MC', 'NAPPN', 'MORENA',\n",
    "       'PES', 'RED', 'C_PRI_PVEM', 'C_PT_MORENA_PES', 'C_PT_MORENA',\n",
    "       'C_PT_PES', 'C_MORENA_PES', 'CI_1', 'CI_2', 'CI_3', 'CI_4', 'CI_5',\n",
    "       'CI_6', 'CNR']\n",
    "\n",
    "for col_ in columns:\n",
    "    muni_rel[col_] = (muni_rel[col_]/muni_rel['TOTAL_VOTOS_CALCULADO'])*100"
   ]
  },
  {
   "cell_type": "code",
   "execution_count": null,
   "id": "wrong-textbook",
   "metadata": {},
   "outputs": [],
   "source": [
    "muni_rel.head()"
   ]
  },
  {
   "cell_type": "code",
   "execution_count": null,
   "id": "friendly-swimming",
   "metadata": {},
   "outputs": [],
   "source": [
    "muni.to_csv('../raw_data/NL_muni_2018.csv')"
   ]
  },
  {
   "cell_type": "code",
   "execution_count": null,
   "id": "ruled-railway",
   "metadata": {},
   "outputs": [],
   "source": [
    "muni_rel.to_csv('../raw_data/NL_muni_rel_2018.csv')"
   ]
  },
  {
   "cell_type": "markdown",
   "id": "consolidated-cooler",
   "metadata": {},
   "source": [
    "# Economic Census"
   ]
  },
  {
   "cell_type": "code",
   "execution_count": null,
   "id": "subtle-isaac",
   "metadata": {},
   "outputs": [],
   "source": [
    "eco = pd.read_csv('../raw_data/Census_Eco_2019 /ce2019_nl.csv')"
   ]
  },
  {
   "cell_type": "code",
   "execution_count": null,
   "id": "valuable-fetish",
   "metadata": {},
   "outputs": [],
   "source": [
    "eco.head()"
   ]
  },
  {
   "cell_type": "code",
   "execution_count": null,
   "id": "infectious-injection",
   "metadata": {
    "scrolled": false
   },
   "outputs": [],
   "source": [
    "eco.columns"
   ]
  },
  {
   "cell_type": "markdown",
   "id": "thermal-party",
   "metadata": {},
   "source": [
    "# Households & Population Census"
   ]
  },
  {
   "cell_type": "code",
   "execution_count": 3,
   "id": "inside-diana",
   "metadata": {},
   "outputs": [],
   "source": [
    "data = pd.read_csv(\"../raw_data/Census_Socio_2020/RESAGEBURB_19CSV20.csv\")"
   ]
  },
  {
   "cell_type": "code",
   "execution_count": 7,
   "id": "large-manufacturer",
   "metadata": {
    "scrolled": false
   },
   "outputs": [
    {
     "data": {
      "text/html": [
       "<div>\n",
       "<style scoped>\n",
       "    .dataframe tbody tr th:only-of-type {\n",
       "        vertical-align: middle;\n",
       "    }\n",
       "\n",
       "    .dataframe tbody tr th {\n",
       "        vertical-align: top;\n",
       "    }\n",
       "\n",
       "    .dataframe thead th {\n",
       "        text-align: right;\n",
       "    }\n",
       "</style>\n",
       "<table border=\"1\" class=\"dataframe\">\n",
       "  <thead>\n",
       "    <tr style=\"text-align: right;\">\n",
       "      <th></th>\n",
       "      <th>ENTIDAD</th>\n",
       "      <th>NOM_ENT</th>\n",
       "      <th>MUN</th>\n",
       "      <th>NOM_MUN</th>\n",
       "      <th>LOC</th>\n",
       "      <th>NOM_LOC</th>\n",
       "      <th>AGEB</th>\n",
       "      <th>MZA</th>\n",
       "      <th>POBTOT</th>\n",
       "      <th>POBFEM</th>\n",
       "      <th>...</th>\n",
       "      <th>VPH_CEL</th>\n",
       "      <th>VPH_INTER</th>\n",
       "      <th>VPH_STVP</th>\n",
       "      <th>VPH_SPMVPI</th>\n",
       "      <th>VPH_CVJ</th>\n",
       "      <th>VPH_SINRTV</th>\n",
       "      <th>VPH_SINLTC</th>\n",
       "      <th>VPH_SINCINT</th>\n",
       "      <th>VPH_SINTIC</th>\n",
       "      <th>unique_number</th>\n",
       "    </tr>\n",
       "  </thead>\n",
       "  <tbody>\n",
       "    <tr>\n",
       "      <th>0</th>\n",
       "      <td>19</td>\n",
       "      <td>Nuevo León</td>\n",
       "      <td>0</td>\n",
       "      <td>Total de la entidad Nuevo León</td>\n",
       "      <td>0</td>\n",
       "      <td>Total de la entidad</td>\n",
       "      <td>0000</td>\n",
       "      <td>0</td>\n",
       "      <td>5784442</td>\n",
       "      <td>2893492</td>\n",
       "      <td>...</td>\n",
       "      <td>1537687</td>\n",
       "      <td>1150914</td>\n",
       "      <td>806584</td>\n",
       "      <td>490746</td>\n",
       "      <td>306104</td>\n",
       "      <td>36729</td>\n",
       "      <td>57505</td>\n",
       "      <td>439479</td>\n",
       "      <td>9797</td>\n",
       "      <td>1900000000000</td>\n",
       "    </tr>\n",
       "    <tr>\n",
       "      <th>1</th>\n",
       "      <td>19</td>\n",
       "      <td>Nuevo León</td>\n",
       "      <td>1</td>\n",
       "      <td>Abasolo</td>\n",
       "      <td>0</td>\n",
       "      <td>Total del municipio</td>\n",
       "      <td>0000</td>\n",
       "      <td>0</td>\n",
       "      <td>2974</td>\n",
       "      <td>1532</td>\n",
       "      <td>...</td>\n",
       "      <td>746</td>\n",
       "      <td>351</td>\n",
       "      <td>359</td>\n",
       "      <td>126</td>\n",
       "      <td>108</td>\n",
       "      <td>18</td>\n",
       "      <td>43</td>\n",
       "      <td>399</td>\n",
       "      <td>9</td>\n",
       "      <td>1900100000000</td>\n",
       "    </tr>\n",
       "    <tr>\n",
       "      <th>2</th>\n",
       "      <td>19</td>\n",
       "      <td>Nuevo León</td>\n",
       "      <td>2</td>\n",
       "      <td>Agualeguas</td>\n",
       "      <td>0</td>\n",
       "      <td>Total del municipio</td>\n",
       "      <td>0000</td>\n",
       "      <td>0</td>\n",
       "      <td>3382</td>\n",
       "      <td>1692</td>\n",
       "      <td>...</td>\n",
       "      <td>1095</td>\n",
       "      <td>456</td>\n",
       "      <td>814</td>\n",
       "      <td>80</td>\n",
       "      <td>50</td>\n",
       "      <td>45</td>\n",
       "      <td>105</td>\n",
       "      <td>762</td>\n",
       "      <td>16</td>\n",
       "      <td>1900200000000</td>\n",
       "    </tr>\n",
       "    <tr>\n",
       "      <th>3</th>\n",
       "      <td>19</td>\n",
       "      <td>Nuevo León</td>\n",
       "      <td>3</td>\n",
       "      <td>Los Aldamas</td>\n",
       "      <td>0</td>\n",
       "      <td>Total del municipio</td>\n",
       "      <td>0000</td>\n",
       "      <td>0</td>\n",
       "      <td>1407</td>\n",
       "      <td>708</td>\n",
       "      <td>...</td>\n",
       "      <td>490</td>\n",
       "      <td>120</td>\n",
       "      <td>178</td>\n",
       "      <td>28</td>\n",
       "      <td>25</td>\n",
       "      <td>25</td>\n",
       "      <td>26</td>\n",
       "      <td>379</td>\n",
       "      <td>7</td>\n",
       "      <td>1900300000000</td>\n",
       "    </tr>\n",
       "    <tr>\n",
       "      <th>4</th>\n",
       "      <td>19</td>\n",
       "      <td>Nuevo León</td>\n",
       "      <td>4</td>\n",
       "      <td>Allende</td>\n",
       "      <td>0</td>\n",
       "      <td>Total del municipio</td>\n",
       "      <td>0000</td>\n",
       "      <td>0</td>\n",
       "      <td>35289</td>\n",
       "      <td>17460</td>\n",
       "      <td>...</td>\n",
       "      <td>9862</td>\n",
       "      <td>6420</td>\n",
       "      <td>6802</td>\n",
       "      <td>2409</td>\n",
       "      <td>1441</td>\n",
       "      <td>293</td>\n",
       "      <td>468</td>\n",
       "      <td>3676</td>\n",
       "      <td>92</td>\n",
       "      <td>1900400000000</td>\n",
       "    </tr>\n",
       "    <tr>\n",
       "      <th>5</th>\n",
       "      <td>19</td>\n",
       "      <td>Nuevo León</td>\n",
       "      <td>4</td>\n",
       "      <td>Allende</td>\n",
       "      <td>1</td>\n",
       "      <td>Total de la localidad urbana</td>\n",
       "      <td>0000</td>\n",
       "      <td>0</td>\n",
       "      <td>28843</td>\n",
       "      <td>14318</td>\n",
       "      <td>...</td>\n",
       "      <td>8101</td>\n",
       "      <td>5604</td>\n",
       "      <td>5841</td>\n",
       "      <td>2120</td>\n",
       "      <td>1189</td>\n",
       "      <td>210</td>\n",
       "      <td>317</td>\n",
       "      <td>2659</td>\n",
       "      <td>58</td>\n",
       "      <td>1900400010000</td>\n",
       "    </tr>\n",
       "    <tr>\n",
       "      <th>6</th>\n",
       "      <td>19</td>\n",
       "      <td>Nuevo León</td>\n",
       "      <td>4</td>\n",
       "      <td>Allende</td>\n",
       "      <td>1</td>\n",
       "      <td>Total AGEB urbana</td>\n",
       "      <td>0095</td>\n",
       "      <td>0</td>\n",
       "      <td>721</td>\n",
       "      <td>367</td>\n",
       "      <td>...</td>\n",
       "      <td>228</td>\n",
       "      <td>156</td>\n",
       "      <td>138</td>\n",
       "      <td>76</td>\n",
       "      <td>39</td>\n",
       "      <td>*</td>\n",
       "      <td>10</td>\n",
       "      <td>74</td>\n",
       "      <td>0</td>\n",
       "      <td>1900400010095</td>\n",
       "    </tr>\n",
       "    <tr>\n",
       "      <th>7</th>\n",
       "      <td>19</td>\n",
       "      <td>Nuevo León</td>\n",
       "      <td>4</td>\n",
       "      <td>Allende</td>\n",
       "      <td>1</td>\n",
       "      <td>Ciudad de Allende</td>\n",
       "      <td>0095</td>\n",
       "      <td>1</td>\n",
       "      <td>37</td>\n",
       "      <td>15</td>\n",
       "      <td>...</td>\n",
       "      <td>10</td>\n",
       "      <td>4</td>\n",
       "      <td>*</td>\n",
       "      <td>0</td>\n",
       "      <td>0</td>\n",
       "      <td>0</td>\n",
       "      <td>*</td>\n",
       "      <td>7</td>\n",
       "      <td>0</td>\n",
       "      <td>1900400010095</td>\n",
       "    </tr>\n",
       "    <tr>\n",
       "      <th>8</th>\n",
       "      <td>19</td>\n",
       "      <td>Nuevo León</td>\n",
       "      <td>4</td>\n",
       "      <td>Allende</td>\n",
       "      <td>1</td>\n",
       "      <td>Ciudad de Allende</td>\n",
       "      <td>0095</td>\n",
       "      <td>2</td>\n",
       "      <td>40</td>\n",
       "      <td>21</td>\n",
       "      <td>...</td>\n",
       "      <td>14</td>\n",
       "      <td>10</td>\n",
       "      <td>8</td>\n",
       "      <td>4</td>\n",
       "      <td>*</td>\n",
       "      <td>0</td>\n",
       "      <td>0</td>\n",
       "      <td>3</td>\n",
       "      <td>0</td>\n",
       "      <td>1900400010095</td>\n",
       "    </tr>\n",
       "    <tr>\n",
       "      <th>9</th>\n",
       "      <td>19</td>\n",
       "      <td>Nuevo León</td>\n",
       "      <td>4</td>\n",
       "      <td>Allende</td>\n",
       "      <td>1</td>\n",
       "      <td>Ciudad de Allende</td>\n",
       "      <td>0095</td>\n",
       "      <td>3</td>\n",
       "      <td>9</td>\n",
       "      <td>3</td>\n",
       "      <td>...</td>\n",
       "      <td>5</td>\n",
       "      <td>4</td>\n",
       "      <td>4</td>\n",
       "      <td>4</td>\n",
       "      <td>0</td>\n",
       "      <td>0</td>\n",
       "      <td>*</td>\n",
       "      <td>*</td>\n",
       "      <td>0</td>\n",
       "      <td>1900400010095</td>\n",
       "    </tr>\n",
       "    <tr>\n",
       "      <th>10</th>\n",
       "      <td>19</td>\n",
       "      <td>Nuevo León</td>\n",
       "      <td>4</td>\n",
       "      <td>Allende</td>\n",
       "      <td>1</td>\n",
       "      <td>Ciudad de Allende</td>\n",
       "      <td>0095</td>\n",
       "      <td>4</td>\n",
       "      <td>16</td>\n",
       "      <td>8</td>\n",
       "      <td>...</td>\n",
       "      <td>4</td>\n",
       "      <td>*</td>\n",
       "      <td>*</td>\n",
       "      <td>*</td>\n",
       "      <td>*</td>\n",
       "      <td>0</td>\n",
       "      <td>0</td>\n",
       "      <td>*</td>\n",
       "      <td>0</td>\n",
       "      <td>1900400010095</td>\n",
       "    </tr>\n",
       "    <tr>\n",
       "      <th>11</th>\n",
       "      <td>19</td>\n",
       "      <td>Nuevo León</td>\n",
       "      <td>4</td>\n",
       "      <td>Allende</td>\n",
       "      <td>1</td>\n",
       "      <td>Ciudad de Allende</td>\n",
       "      <td>0095</td>\n",
       "      <td>5</td>\n",
       "      <td>25</td>\n",
       "      <td>12</td>\n",
       "      <td>...</td>\n",
       "      <td>8</td>\n",
       "      <td>4</td>\n",
       "      <td>5</td>\n",
       "      <td>*</td>\n",
       "      <td>0</td>\n",
       "      <td>0</td>\n",
       "      <td>0</td>\n",
       "      <td>3</td>\n",
       "      <td>0</td>\n",
       "      <td>1900400010095</td>\n",
       "    </tr>\n",
       "    <tr>\n",
       "      <th>12</th>\n",
       "      <td>19</td>\n",
       "      <td>Nuevo León</td>\n",
       "      <td>4</td>\n",
       "      <td>Allende</td>\n",
       "      <td>1</td>\n",
       "      <td>Ciudad de Allende</td>\n",
       "      <td>0095</td>\n",
       "      <td>7</td>\n",
       "      <td>14</td>\n",
       "      <td>7</td>\n",
       "      <td>...</td>\n",
       "      <td>3</td>\n",
       "      <td>3</td>\n",
       "      <td>*</td>\n",
       "      <td>*</td>\n",
       "      <td>0</td>\n",
       "      <td>0</td>\n",
       "      <td>*</td>\n",
       "      <td>*</td>\n",
       "      <td>0</td>\n",
       "      <td>1900400010095</td>\n",
       "    </tr>\n",
       "    <tr>\n",
       "      <th>13</th>\n",
       "      <td>19</td>\n",
       "      <td>Nuevo León</td>\n",
       "      <td>4</td>\n",
       "      <td>Allende</td>\n",
       "      <td>1</td>\n",
       "      <td>Ciudad de Allende</td>\n",
       "      <td>0095</td>\n",
       "      <td>10</td>\n",
       "      <td>27</td>\n",
       "      <td>14</td>\n",
       "      <td>...</td>\n",
       "      <td>6</td>\n",
       "      <td>6</td>\n",
       "      <td>5</td>\n",
       "      <td>3</td>\n",
       "      <td>*</td>\n",
       "      <td>0</td>\n",
       "      <td>*</td>\n",
       "      <td>*</td>\n",
       "      <td>0</td>\n",
       "      <td>1900400010095</td>\n",
       "    </tr>\n",
       "    <tr>\n",
       "      <th>14</th>\n",
       "      <td>19</td>\n",
       "      <td>Nuevo León</td>\n",
       "      <td>4</td>\n",
       "      <td>Allende</td>\n",
       "      <td>1</td>\n",
       "      <td>Ciudad de Allende</td>\n",
       "      <td>0095</td>\n",
       "      <td>11</td>\n",
       "      <td>7</td>\n",
       "      <td>*</td>\n",
       "      <td>...</td>\n",
       "      <td>*</td>\n",
       "      <td>*</td>\n",
       "      <td>*</td>\n",
       "      <td>*</td>\n",
       "      <td>*</td>\n",
       "      <td>*</td>\n",
       "      <td>*</td>\n",
       "      <td>*</td>\n",
       "      <td>*</td>\n",
       "      <td>1900400010095</td>\n",
       "    </tr>\n",
       "    <tr>\n",
       "      <th>15</th>\n",
       "      <td>19</td>\n",
       "      <td>Nuevo León</td>\n",
       "      <td>4</td>\n",
       "      <td>Allende</td>\n",
       "      <td>1</td>\n",
       "      <td>Ciudad de Allende</td>\n",
       "      <td>0095</td>\n",
       "      <td>12</td>\n",
       "      <td>36</td>\n",
       "      <td>18</td>\n",
       "      <td>...</td>\n",
       "      <td>9</td>\n",
       "      <td>9</td>\n",
       "      <td>5</td>\n",
       "      <td>3</td>\n",
       "      <td>0</td>\n",
       "      <td>0</td>\n",
       "      <td>0</td>\n",
       "      <td>0</td>\n",
       "      <td>0</td>\n",
       "      <td>1900400010095</td>\n",
       "    </tr>\n",
       "    <tr>\n",
       "      <th>16</th>\n",
       "      <td>19</td>\n",
       "      <td>Nuevo León</td>\n",
       "      <td>4</td>\n",
       "      <td>Allende</td>\n",
       "      <td>1</td>\n",
       "      <td>Ciudad de Allende</td>\n",
       "      <td>0095</td>\n",
       "      <td>13</td>\n",
       "      <td>36</td>\n",
       "      <td>17</td>\n",
       "      <td>...</td>\n",
       "      <td>11</td>\n",
       "      <td>10</td>\n",
       "      <td>4</td>\n",
       "      <td>0</td>\n",
       "      <td>0</td>\n",
       "      <td>0</td>\n",
       "      <td>*</td>\n",
       "      <td>0</td>\n",
       "      <td>0</td>\n",
       "      <td>1900400010095</td>\n",
       "    </tr>\n",
       "    <tr>\n",
       "      <th>17</th>\n",
       "      <td>19</td>\n",
       "      <td>Nuevo León</td>\n",
       "      <td>4</td>\n",
       "      <td>Allende</td>\n",
       "      <td>1</td>\n",
       "      <td>Ciudad de Allende</td>\n",
       "      <td>0095</td>\n",
       "      <td>14</td>\n",
       "      <td>27</td>\n",
       "      <td>12</td>\n",
       "      <td>...</td>\n",
       "      <td>13</td>\n",
       "      <td>6</td>\n",
       "      <td>4</td>\n",
       "      <td>3</td>\n",
       "      <td>3</td>\n",
       "      <td>0</td>\n",
       "      <td>0</td>\n",
       "      <td>6</td>\n",
       "      <td>0</td>\n",
       "      <td>1900400010095</td>\n",
       "    </tr>\n",
       "    <tr>\n",
       "      <th>18</th>\n",
       "      <td>19</td>\n",
       "      <td>Nuevo León</td>\n",
       "      <td>4</td>\n",
       "      <td>Allende</td>\n",
       "      <td>1</td>\n",
       "      <td>Ciudad de Allende</td>\n",
       "      <td>0095</td>\n",
       "      <td>15</td>\n",
       "      <td>23</td>\n",
       "      <td>13</td>\n",
       "      <td>...</td>\n",
       "      <td>9</td>\n",
       "      <td>6</td>\n",
       "      <td>7</td>\n",
       "      <td>3</td>\n",
       "      <td>*</td>\n",
       "      <td>0</td>\n",
       "      <td>0</td>\n",
       "      <td>3</td>\n",
       "      <td>0</td>\n",
       "      <td>1900400010095</td>\n",
       "    </tr>\n",
       "    <tr>\n",
       "      <th>19</th>\n",
       "      <td>19</td>\n",
       "      <td>Nuevo León</td>\n",
       "      <td>4</td>\n",
       "      <td>Allende</td>\n",
       "      <td>1</td>\n",
       "      <td>Ciudad de Allende</td>\n",
       "      <td>0095</td>\n",
       "      <td>16</td>\n",
       "      <td>23</td>\n",
       "      <td>11</td>\n",
       "      <td>...</td>\n",
       "      <td>9</td>\n",
       "      <td>9</td>\n",
       "      <td>7</td>\n",
       "      <td>7</td>\n",
       "      <td>3</td>\n",
       "      <td>0</td>\n",
       "      <td>0</td>\n",
       "      <td>*</td>\n",
       "      <td>0</td>\n",
       "      <td>1900400010095</td>\n",
       "    </tr>\n",
       "  </tbody>\n",
       "</table>\n",
       "<p>20 rows × 230 columns</p>\n",
       "</div>"
      ],
      "text/plain": [
       "    ENTIDAD     NOM_ENT  MUN                         NOM_MUN  LOC  \\\n",
       "0        19  Nuevo León    0  Total de la entidad Nuevo León    0   \n",
       "1        19  Nuevo León    1                         Abasolo    0   \n",
       "2        19  Nuevo León    2                      Agualeguas    0   \n",
       "3        19  Nuevo León    3                     Los Aldamas    0   \n",
       "4        19  Nuevo León    4                         Allende    0   \n",
       "5        19  Nuevo León    4                         Allende    1   \n",
       "6        19  Nuevo León    4                         Allende    1   \n",
       "7        19  Nuevo León    4                         Allende    1   \n",
       "8        19  Nuevo León    4                         Allende    1   \n",
       "9        19  Nuevo León    4                         Allende    1   \n",
       "10       19  Nuevo León    4                         Allende    1   \n",
       "11       19  Nuevo León    4                         Allende    1   \n",
       "12       19  Nuevo León    4                         Allende    1   \n",
       "13       19  Nuevo León    4                         Allende    1   \n",
       "14       19  Nuevo León    4                         Allende    1   \n",
       "15       19  Nuevo León    4                         Allende    1   \n",
       "16       19  Nuevo León    4                         Allende    1   \n",
       "17       19  Nuevo León    4                         Allende    1   \n",
       "18       19  Nuevo León    4                         Allende    1   \n",
       "19       19  Nuevo León    4                         Allende    1   \n",
       "\n",
       "                         NOM_LOC  AGEB  MZA   POBTOT   POBFEM  ...  VPH_CEL  \\\n",
       "0            Total de la entidad  0000    0  5784442  2893492  ...  1537687   \n",
       "1            Total del municipio  0000    0     2974     1532  ...      746   \n",
       "2            Total del municipio  0000    0     3382     1692  ...     1095   \n",
       "3            Total del municipio  0000    0     1407      708  ...      490   \n",
       "4            Total del municipio  0000    0    35289    17460  ...     9862   \n",
       "5   Total de la localidad urbana  0000    0    28843    14318  ...     8101   \n",
       "6              Total AGEB urbana  0095    0      721      367  ...      228   \n",
       "7              Ciudad de Allende  0095    1       37       15  ...       10   \n",
       "8              Ciudad de Allende  0095    2       40       21  ...       14   \n",
       "9              Ciudad de Allende  0095    3        9        3  ...        5   \n",
       "10             Ciudad de Allende  0095    4       16        8  ...        4   \n",
       "11             Ciudad de Allende  0095    5       25       12  ...        8   \n",
       "12             Ciudad de Allende  0095    7       14        7  ...        3   \n",
       "13             Ciudad de Allende  0095   10       27       14  ...        6   \n",
       "14             Ciudad de Allende  0095   11        7        *  ...        *   \n",
       "15             Ciudad de Allende  0095   12       36       18  ...        9   \n",
       "16             Ciudad de Allende  0095   13       36       17  ...       11   \n",
       "17             Ciudad de Allende  0095   14       27       12  ...       13   \n",
       "18             Ciudad de Allende  0095   15       23       13  ...        9   \n",
       "19             Ciudad de Allende  0095   16       23       11  ...        9   \n",
       "\n",
       "   VPH_INTER VPH_STVP VPH_SPMVPI VPH_CVJ VPH_SINRTV VPH_SINLTC VPH_SINCINT  \\\n",
       "0    1150914   806584     490746  306104      36729      57505      439479   \n",
       "1        351      359        126     108         18         43         399   \n",
       "2        456      814         80      50         45        105         762   \n",
       "3        120      178         28      25         25         26         379   \n",
       "4       6420     6802       2409    1441        293        468        3676   \n",
       "5       5604     5841       2120    1189        210        317        2659   \n",
       "6        156      138         76      39          *         10          74   \n",
       "7          4        *          0       0          0          *           7   \n",
       "8         10        8          4       *          0          0           3   \n",
       "9          4        4          4       0          0          *           *   \n",
       "10         *        *          *       *          0          0           *   \n",
       "11         4        5          *       0          0          0           3   \n",
       "12         3        *          *       0          0          *           *   \n",
       "13         6        5          3       *          0          *           *   \n",
       "14         *        *          *       *          *          *           *   \n",
       "15         9        5          3       0          0          0           0   \n",
       "16        10        4          0       0          0          *           0   \n",
       "17         6        4          3       3          0          0           6   \n",
       "18         6        7          3       *          0          0           3   \n",
       "19         9        7          7       3          0          0           *   \n",
       "\n",
       "   VPH_SINTIC  unique_number  \n",
       "0        9797  1900000000000  \n",
       "1           9  1900100000000  \n",
       "2          16  1900200000000  \n",
       "3           7  1900300000000  \n",
       "4          92  1900400000000  \n",
       "5          58  1900400010000  \n",
       "6           0  1900400010095  \n",
       "7           0  1900400010095  \n",
       "8           0  1900400010095  \n",
       "9           0  1900400010095  \n",
       "10          0  1900400010095  \n",
       "11          0  1900400010095  \n",
       "12          0  1900400010095  \n",
       "13          0  1900400010095  \n",
       "14          *  1900400010095  \n",
       "15          0  1900400010095  \n",
       "16          0  1900400010095  \n",
       "17          0  1900400010095  \n",
       "18          0  1900400010095  \n",
       "19          0  1900400010095  \n",
       "\n",
       "[20 rows x 230 columns]"
      ]
     },
     "execution_count": 7,
     "metadata": {},
     "output_type": "execute_result"
    }
   ],
   "source": [
    "data.head(20)"
   ]
  },
  {
   "cell_type": "code",
   "execution_count": 6,
   "id": "small-kelly",
   "metadata": {},
   "outputs": [],
   "source": [
    "data[\"unique_number\"] = (data.ENTIDAD.astype(str).str.zfill(2) +\\\n",
    "                      data.MUN.astype(str).str.zfill(3) +\\\n",
    "                      data.LOC.astype(str).str.zfill(4) +\\\n",
    "                      data.AGEB.astype(str).str.zfill(4) \\\n",
    "                      )"
   ]
  },
  {
   "cell_type": "code",
   "execution_count": 8,
   "id": "accessory-aviation",
   "metadata": {},
   "outputs": [],
   "source": [
    "spam = data[data['NOM_LOC']==\"Total AGEB urbana\"]"
   ]
  },
  {
   "cell_type": "code",
   "execution_count": 12,
   "id": "existing-simulation",
   "metadata": {},
   "outputs": [
    {
     "data": {
      "text/html": [
       "<div>\n",
       "<style scoped>\n",
       "    .dataframe tbody tr th:only-of-type {\n",
       "        vertical-align: middle;\n",
       "    }\n",
       "\n",
       "    .dataframe tbody tr th {\n",
       "        vertical-align: top;\n",
       "    }\n",
       "\n",
       "    .dataframe thead th {\n",
       "        text-align: right;\n",
       "    }\n",
       "</style>\n",
       "<table border=\"1\" class=\"dataframe\">\n",
       "  <thead>\n",
       "    <tr style=\"text-align: right;\">\n",
       "      <th></th>\n",
       "      <th>ENTIDAD</th>\n",
       "      <th>MUN</th>\n",
       "      <th>LOC</th>\n",
       "      <th>MZA</th>\n",
       "      <th>POBTOT</th>\n",
       "      <th>VIVTOT</th>\n",
       "    </tr>\n",
       "    <tr>\n",
       "      <th>unique_number</th>\n",
       "      <th></th>\n",
       "      <th></th>\n",
       "      <th></th>\n",
       "      <th></th>\n",
       "      <th></th>\n",
       "      <th></th>\n",
       "    </tr>\n",
       "  </thead>\n",
       "  <tbody>\n",
       "    <tr>\n",
       "      <th>1900400010095</th>\n",
       "      <td>19</td>\n",
       "      <td>4</td>\n",
       "      <td>1</td>\n",
       "      <td>0</td>\n",
       "      <td>721</td>\n",
       "      <td>320</td>\n",
       "    </tr>\n",
       "    <tr>\n",
       "      <th>1900400010112</th>\n",
       "      <td>19</td>\n",
       "      <td>4</td>\n",
       "      <td>1</td>\n",
       "      <td>0</td>\n",
       "      <td>624</td>\n",
       "      <td>217</td>\n",
       "    </tr>\n",
       "    <tr>\n",
       "      <th>1900400010127</th>\n",
       "      <td>19</td>\n",
       "      <td>4</td>\n",
       "      <td>1</td>\n",
       "      <td>0</td>\n",
       "      <td>431</td>\n",
       "      <td>194</td>\n",
       "    </tr>\n",
       "    <tr>\n",
       "      <th>1900400010131</th>\n",
       "      <td>19</td>\n",
       "      <td>4</td>\n",
       "      <td>1</td>\n",
       "      <td>0</td>\n",
       "      <td>1243</td>\n",
       "      <td>498</td>\n",
       "    </tr>\n",
       "    <tr>\n",
       "      <th>1900400010146</th>\n",
       "      <td>19</td>\n",
       "      <td>4</td>\n",
       "      <td>1</td>\n",
       "      <td>0</td>\n",
       "      <td>2145</td>\n",
       "      <td>753</td>\n",
       "    </tr>\n",
       "    <tr>\n",
       "      <th>...</th>\n",
       "      <td>...</td>\n",
       "      <td>...</td>\n",
       "      <td>...</td>\n",
       "      <td>...</td>\n",
       "      <td>...</td>\n",
       "      <td>...</td>\n",
       "    </tr>\n",
       "    <tr>\n",
       "      <th>1905100010292</th>\n",
       "      <td>19</td>\n",
       "      <td>51</td>\n",
       "      <td>1</td>\n",
       "      <td>0</td>\n",
       "      <td>11</td>\n",
       "      <td>4</td>\n",
       "    </tr>\n",
       "    <tr>\n",
       "      <th>1905100010305</th>\n",
       "      <td>19</td>\n",
       "      <td>51</td>\n",
       "      <td>1</td>\n",
       "      <td>0</td>\n",
       "      <td>41</td>\n",
       "      <td>19</td>\n",
       "    </tr>\n",
       "    <tr>\n",
       "      <th>190510001031A</th>\n",
       "      <td>19</td>\n",
       "      <td>51</td>\n",
       "      <td>1</td>\n",
       "      <td>0</td>\n",
       "      <td>0</td>\n",
       "      <td>4</td>\n",
       "    </tr>\n",
       "    <tr>\n",
       "      <th>1905100010324</th>\n",
       "      <td>19</td>\n",
       "      <td>51</td>\n",
       "      <td>1</td>\n",
       "      <td>0</td>\n",
       "      <td>30</td>\n",
       "      <td>11</td>\n",
       "    </tr>\n",
       "    <tr>\n",
       "      <th>1905100010339</th>\n",
       "      <td>19</td>\n",
       "      <td>51</td>\n",
       "      <td>1</td>\n",
       "      <td>0</td>\n",
       "      <td>7</td>\n",
       "      <td>4</td>\n",
       "    </tr>\n",
       "  </tbody>\n",
       "</table>\n",
       "<p>2575 rows × 6 columns</p>\n",
       "</div>"
      ],
      "text/plain": [
       "               ENTIDAD  MUN  LOC  MZA  POBTOT  VIVTOT\n",
       "unique_number                                        \n",
       "1900400010095       19    4    1    0     721     320\n",
       "1900400010112       19    4    1    0     624     217\n",
       "1900400010127       19    4    1    0     431     194\n",
       "1900400010131       19    4    1    0    1243     498\n",
       "1900400010146       19    4    1    0    2145     753\n",
       "...                ...  ...  ...  ...     ...     ...\n",
       "1905100010292       19   51    1    0      11       4\n",
       "1905100010305       19   51    1    0      41      19\n",
       "190510001031A       19   51    1    0       0       4\n",
       "1905100010324       19   51    1    0      30      11\n",
       "1905100010339       19   51    1    0       7       4\n",
       "\n",
       "[2575 rows x 6 columns]"
      ]
     },
     "execution_count": 12,
     "metadata": {},
     "output_type": "execute_result"
    }
   ],
   "source": [
    "spam.groupby(by='unique_number').sum()"
   ]
  },
  {
   "cell_type": "code",
   "execution_count": null,
   "id": "ongoing-northwest",
   "metadata": {},
   "outputs": [],
   "source": [
    "pob = data[['ENTIDAD', 'NOM_ENT', 'MUN', 'NOM_MUN', 'LOC', 'NOM_LOC', 'AGEB', 'MZA','POBTOT','POBFEM','POBMAS','P_3A5','P_6A11','POB65_MAS','PHOG_IND','POB_AFRO','PCON_DISC','PCLIM_PMEN','PCDISC_MOT','P3A5_NOA','P6A11_NOA','P8A14AN','P15SEC_INM','P18A24A','PEA','PDESOCUP','PSINDER','PDER_IMSS','PDER_ISTE','PDER_SEGP','PAFIL_IPRIV','PCATOLICA']]"
   ]
  },
  {
   "cell_type": "code",
   "execution_count": null,
   "id": "motivated-creativity",
   "metadata": {},
   "outputs": [],
   "source": [
    "pob_ageb = pob[pob['NOM_LOC']==\"Total AGEB urbana\"]"
   ]
  },
  {
   "cell_type": "code",
   "execution_count": null,
   "id": "caring-panel",
   "metadata": {},
   "outputs": [],
   "source": [
    "pob_ageb[\"unique_number\"] = (pob_ageb.ENTIDAD.astype(str).str.zfill(2) +\\\n",
    "                      pob_ageb.MUN.astype(str).str.zfill(3) +\\\n",
    "                      pob_ageb.LOC.astype(str).str.zfill(4) +\\\n",
    "                      pob_ageb.AGEB.astype(str).str.zfill(4) \\\n",
    "                      )"
   ]
  },
  {
   "cell_type": "code",
   "execution_count": null,
   "id": "promising-innocent",
   "metadata": {},
   "outputs": [],
   "source": [
    "pob_ageb.columns"
   ]
  },
  {
   "cell_type": "code",
   "execution_count": null,
   "id": "framed-recording",
   "metadata": {},
   "outputs": [],
   "source": [
    "pob_ageb.drop(columns=[\"NOM_ENT\",'NOM_MUN','NOM_LOC','MZA'])"
   ]
  },
  {
   "cell_type": "code",
   "execution_count": null,
   "id": "absolute-barrel",
   "metadata": {},
   "outputs": [],
   "source": [
    "pob_ageb = pob_ageb['unique_number']"
   ]
  },
  {
   "cell_type": "code",
   "execution_count": null,
   "id": "alternate-fairy",
   "metadata": {},
   "outputs": [],
   "source": [
    "pob_ageb.to_csv(\"../raw_data/pob_ageb_nico.csv\")"
   ]
  },
  {
   "cell_type": "code",
   "execution_count": null,
   "id": "unnecessary-scoop",
   "metadata": {
    "scrolled": true
   },
   "outputs": [],
   "source": [
    "pob_.head()"
   ]
  },
  {
   "cell_type": "code",
   "execution_count": null,
   "id": "touched-chest",
   "metadata": {},
   "outputs": [],
   "source": [
    "pob_ = pob_.rename(columns={\"POBTOT\":\"pob_ttl\",\"POBFEM\":\"pob_fem\",\"POBMAS\":\"pob_mas\",\"P_3A5\":\"pob_3_5\",\"P_6A11\":\"pob_6_11\",\"POB65_MAS\":\"pob_65\",\"PHOG_IND\":\"pob_indigena\",\"POB_AFRO\":\"pob_afro\",\"PCON_DISC\":\"pob_discap\",\"PCLIM_PMEN\":\"pob_discap_mental\",\"PCDISC_MOT\":\"pob_discap_motriz\",\"P3A5_NOA\":\"3_5_sinescuela\",\"P6A11_NOA\":\"6_11_sinescuela\",\"P8A14AN\":\"8_14_analphab\",\"P15SEC_INM\":\"15_nosecundaria\",\"P18A24A\":\"18_24_analphab\",\"PEA\":\"pob_activa\",\"PDESOCUP\":\"pob_desocupada\",\"PSINDER\":\"sin_salud\",\"PDER_IMSS\":\"imss_salud\",\"PDER_ISTE\":\"issste_salud\",\"PDER_SEGP\":\"secr_salud\",\"PAFIL_IPRIV\":\"priv_salud\",\"PCATOLICA\":\"catolica\"})"
   ]
  },
  {
   "cell_type": "code",
   "execution_count": null,
   "id": "unnecessary-malawi",
   "metadata": {},
   "outputs": [],
   "source": [
    "pob_1 = pob_[pob_['NOM_LOC']==\"Total AGEB urbana\"]"
   ]
  },
  {
   "cell_type": "code",
   "execution_count": null,
   "id": "german-blink",
   "metadata": {
    "scrolled": true
   },
   "outputs": [],
   "source": [
    "pob_1[\"AGEB_CONCAT\"] = (pob_1.ENTIDAD.astype(str).str.zfill(2) +\\\n",
    "                      pob_1.MUN.astype(str).str.zfill(3) +\\\n",
    "                      pob_1.LOC.astype(str).str.zfill(4) +\\\n",
    "                      pob_1.AGEB.astype(str).str.zfill(4) \\\n",
    "                      )"
   ]
  },
  {
   "cell_type": "code",
   "execution_count": null,
   "id": "loaded-entry",
   "metadata": {},
   "outputs": [],
   "source": [
    "pob_1.columns"
   ]
  },
  {
   "cell_type": "code",
   "execution_count": null,
   "id": "current-funeral",
   "metadata": {
    "scrolled": true
   },
   "outputs": [],
   "source": [
    "pob_1.drop(columns=['NOM_ENT','NOM_MUN','NOM_LOC','MZA'])"
   ]
  },
  {
   "cell_type": "code",
   "execution_count": null,
   "id": "temporal-bidder",
   "metadata": {},
   "outputs": [],
   "source": [
    "pob_unique_number_1 = pob_1['AGEB_CONCAT']"
   ]
  },
  {
   "cell_type": "code",
   "execution_count": null,
   "id": "comfortable-knitting",
   "metadata": {},
   "outputs": [],
   "source": [
    "pob_unique_number_1.drop_duplicates()"
   ]
  },
  {
   "cell_type": "code",
   "execution_count": null,
   "id": "interior-consumer",
   "metadata": {},
   "outputs": [],
   "source": [
    "pob_unique_number_1.to_csv(\"../raw_data/pob_unique_number_1.csv\")"
   ]
  },
  {
   "cell_type": "code",
   "execution_count": null,
   "id": "regulated-right",
   "metadata": {},
   "outputs": [],
   "source": [
    "viv = pd.read_csv('../raw_data/Census_Socio_2020/RESAGEBURB_19CSV20.csv')"
   ]
  },
  {
   "cell_type": "code",
   "execution_count": null,
   "id": "brutal-marriage",
   "metadata": {},
   "outputs": [],
   "source": [
    "viv_ = viv[['ENTIDAD', 'NOM_ENT', 'MUN', 'NOM_MUN', 'LOC', 'NOM_LOC', 'AGEB', 'MZA','VIVTOT','VIVPAR_DES','VPH_PISOTI','VPH_S_ELEC','VPH_NODREN','VPH_NDEAED','VPH_AUTOM','VPH_BICI','VPH_CEL','VPH_INTER','VPH_STVP','VPH_SINCINT']]"
   ]
  },
  {
   "cell_type": "code",
   "execution_count": null,
   "id": "national-cause",
   "metadata": {
    "scrolled": true
   },
   "outputs": [],
   "source": [
    "viv_.columns"
   ]
  },
  {
   "cell_type": "code",
   "execution_count": null,
   "id": "distinguished-season",
   "metadata": {},
   "outputs": [],
   "source": [
    "viv_ = viv_.rename(columns={\"VIVTOT\":\"viv_ttl\",\"VIVPAR_DES\":\"viv_deshabit\",\"VPH_PISOTI\":\"piso_tierra\",\"VPH_S_ELEC\":\"no_electricidad\",\"VPH_NODREN\":\"no_drenaje\",\"VPH_NDEAED\":\"sin_infras\",\"VPH_AUTOM\":\"con_camonieta\",\"VPH_BICI\":\"solo_bici\",\"VPH_CEL\":\"celular\",\"VPH_INTER\":\"internet\",\"VPH_STVP\":\"servicio_pago\",\"VPH_SINCINT\":\"nopc_nointernet\"})"
   ]
  },
  {
   "cell_type": "code",
   "execution_count": null,
   "id": "promising-holiday",
   "metadata": {},
   "outputs": [],
   "source": [
    "viv_.to_csv(\"../raw_data/viv1.csv\")"
   ]
  },
  {
   "cell_type": "markdown",
   "id": "reasonable-lindsay",
   "metadata": {},
   "source": [
    "# Section shape file"
   ]
  },
  {
   "cell_type": "code",
   "execution_count": null,
   "id": "swedish-flashing",
   "metadata": {},
   "outputs": [],
   "source": [
    "plt.rcParams['figure.figsize'] = (20, 10)"
   ]
  },
  {
   "cell_type": "code",
   "execution_count": null,
   "id": "studied-march",
   "metadata": {},
   "outputs": [],
   "source": [
    "section = gpd.read_file('../raw_data/SECCION_NUEVO_LEON.geojson')"
   ]
  },
  {
   "cell_type": "code",
   "execution_count": null,
   "id": "diverse-liver",
   "metadata": {
    "scrolled": true
   },
   "outputs": [],
   "source": [
    "section_map = section.plot(color='black')"
   ]
  },
  {
   "cell_type": "markdown",
   "id": "purple-expansion",
   "metadata": {},
   "source": [
    "# AGEB shape file"
   ]
  },
  {
   "cell_type": "code",
   "execution_count": null,
   "id": "cosmetic-audience",
   "metadata": {},
   "outputs": [],
   "source": [
    "ageb = geopandas.read_file('../raw_data/nl_ageb_rural.shx')"
   ]
  },
  {
   "cell_type": "code",
   "execution_count": null,
   "id": "grave-thought",
   "metadata": {},
   "outputs": [],
   "source": [
    "ageb = gpd.read_file('../raw_data/shapefile_ageb/nl_ageb_rural.shp')"
   ]
  },
  {
   "cell_type": "code",
   "execution_count": null,
   "id": "alien-tobacco",
   "metadata": {},
   "outputs": [],
   "source": [
    "print(ageb['geometry'])"
   ]
  },
  {
   "cell_type": "code",
   "execution_count": null,
   "id": "standing-header",
   "metadata": {},
   "outputs": [],
   "source": [
    "ageb.plot(figsize=(5,5), edgecolor=\"purple\", facecolor=\"None\")"
   ]
  },
  {
   "cell_type": "code",
   "execution_count": null,
   "id": "capable-juice",
   "metadata": {},
   "outputs": [],
   "source": [
    "ageb_u = gpd.read_file(\"../raw_data/nl_ageb_urbana.shx\")"
   ]
  },
  {
   "cell_type": "code",
   "execution_count": null,
   "id": "brutal-mercury",
   "metadata": {},
   "outputs": [],
   "source": [
    "ageb_u.plot(figsize=(5,5), edgecolor=\"purple\", facecolor=\"None\")"
   ]
  },
  {
   "cell_type": "code",
   "execution_count": null,
   "id": "failing-corruption",
   "metadata": {},
   "outputs": [],
   "source": [
    "import folium"
   ]
  },
  {
   "cell_type": "code",
   "execution_count": null,
   "id": "utility-westminster",
   "metadata": {
    "scrolled": true
   },
   "outputs": [],
   "source": [
    "url = (\n",
    "    \"https://raw.githubusercontent.com/python-visualization/folium/master/examples/data\"\n",
    ")\n",
    "state_geo = f\"{url}/us-states.json\"\n",
    "state_unemployment = f\"{url}/US_Unemployment_Oct2012.csv\"\n",
    "state_data = pd.read_csv(state_unemployment)\n",
    "\n",
    "m = folium.Map(location=[48, -102], zoom_start=3)\n",
    "\n",
    "folium.Choropleth(\n",
    "    geo_data=state_geo,\n",
    "    name=\"choropleth\",\n",
    "    data=state_data,\n",
    "    columns=[\"State\", \"Unemployment\"],\n",
    "    key_on=\"feature.id\",\n",
    "    fill_color=\"YlGn\",\n",
    "    fill_opacity=0.7,\n",
    "    line_opacity=0.2,\n",
    "    legend_name=\"Unemployment Rate (%)\",\n",
    ").add_to(m)\n",
    "\n",
    "folium.LayerControl().add_to(m)\n",
    "\n",
    "m"
   ]
  },
  {
   "cell_type": "code",
   "execution_count": null,
   "id": "intense-opening",
   "metadata": {},
   "outputs": [],
   "source": [
    "import folium"
   ]
  },
  {
   "cell_type": "code",
   "execution_count": null,
   "id": "speaking-hacker",
   "metadata": {},
   "outputs": [],
   "source": [
    "pob_good = pd.read_csv('../raw_data/pob_good.cvs')"
   ]
  },
  {
   "cell_type": "code",
   "execution_count": null,
   "id": "floppy-sleeping",
   "metadata": {
    "scrolled": false
   },
   "outputs": [],
   "source": [
    "pob_good.columns"
   ]
  },
  {
   "cell_type": "code",
   "execution_count": null,
   "id": "patient-catalog",
   "metadata": {},
   "outputs": [],
   "source": [
    "pob_good[\"AGEB_CONCAT\"] = (pob_good.ENTIDAD.astype(str).str.zfill(2) +\\\n",
    "                         pob_good.MUN.astype(str).str.zfill(3) +\\\n",
    "                         pob_good.LOC.astype(str).str.zfill(4) +\\\n",
    "                         pob_good.AGEB.astype(str).str.zfill(4) \\\n",
    "                      )"
   ]
  },
  {
   "cell_type": "code",
   "execution_count": null,
   "id": "artificial-blogger",
   "metadata": {
    "scrolled": true
   },
   "outputs": [],
   "source": [
    "pob_good = pob_good[pob_good['NOM_LOC'] == \"Total AGEB urbana\"]"
   ]
  },
  {
   "cell_type": "code",
   "execution_count": null,
   "id": "fatty-upgrade",
   "metadata": {},
   "outputs": [],
   "source": [
    "pob_good.head()"
   ]
  },
  {
   "cell_type": "code",
   "execution_count": null,
   "id": "chief-calendar",
   "metadata": {},
   "outputs": [],
   "source": [
    "pob_good = pob_good.groupby(by=\"AGEB_CONCAT\").sum()"
   ]
  },
  {
   "cell_type": "code",
   "execution_count": null,
   "id": "frank-avenue",
   "metadata": {},
   "outputs": [],
   "source": [
    "pob_good.shape"
   ]
  },
  {
   "cell_type": "code",
   "execution_count": null,
   "id": "overhead-statistics",
   "metadata": {},
   "outputs": [],
   "source": [
    "pob_good.to_csv(\"../raw_data/pob_good.cvs\")"
   ]
  },
  {
   "cell_type": "code",
   "execution_count": null,
   "id": "neural-throat",
   "metadata": {},
   "outputs": [],
   "source": []
  }
 ],
 "metadata": {
  "kernelspec": {
   "display_name": "Python 3",
   "language": "python",
   "name": "python3"
  },
  "language_info": {
   "codemirror_mode": {
    "name": "ipython",
    "version": 3
   },
   "file_extension": ".py",
   "mimetype": "text/x-python",
   "name": "python",
   "nbconvert_exporter": "python",
   "pygments_lexer": "ipython3",
   "version": "3.8.6"
  },
  "toc": {
   "base_numbering": 1,
   "nav_menu": {},
   "number_sections": true,
   "sideBar": true,
   "skip_h1_title": false,
   "title_cell": "Table of Contents",
   "title_sidebar": "Contents",
   "toc_cell": false,
   "toc_position": {},
   "toc_section_display": true,
   "toc_window_display": false
  },
  "varInspector": {
   "cols": {
    "lenName": 16,
    "lenType": 16,
    "lenVar": 40
   },
   "kernels_config": {
    "python": {
     "delete_cmd_postfix": "",
     "delete_cmd_prefix": "del ",
     "library": "var_list.py",
     "varRefreshCmd": "print(var_dic_list())"
    },
    "r": {
     "delete_cmd_postfix": ") ",
     "delete_cmd_prefix": "rm(",
     "library": "var_list.r",
     "varRefreshCmd": "cat(var_dic_list()) "
    }
   },
   "types_to_exclude": [
    "module",
    "function",
    "builtin_function_or_method",
    "instance",
    "_Feature"
   ],
   "window_display": false
  }
 },
 "nbformat": 4,
 "nbformat_minor": 5
}
